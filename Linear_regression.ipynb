import pandas as pd
from sklearn.linear_model import LinearRegression
import joblib

# Load datasets from relative paths
test_dataset = pd.read_csv('data/test.csv')
train_dataset = pd.read_csv('data/train.csv')

# Columns we are interested in
selected_columns = ['GrLivArea', 'FullBath', 'HalfBath', 'BedroomAbvGr']
desired_columns = ['SalePrice']

X_train = train_dataset[selected_columns]
y_train = train_dataset[desired_columns]
X_test = test_dataset[selected_columns]

# Train the model
model = LinearRegression()
model.fit(X_train, y_train)

# Save the trained model using joblib
joblib.dump(model, 'models/linear_regression_model.joblib')

# Make predictions on the test set
test_predictions = model.predict(X_test)

# Add predictions to the test dataset
test_dataset['SalePrice'] = test_predictions

# Save predictions to a CSV file
test_dataset[['GrLivArea', 'FullBath', 'HalfBath', 'BedroomAbvGr', 'SalePrice']].to_csv("output/predictions.csv", index=False)
