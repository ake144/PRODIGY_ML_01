import pandas as pd
from sklearn.linear_model import LinearRegression


test_dataset = pd.read_csv('test.csv')
train_dataset = pd.read_csv('train.csv')

#columns we are interested
selected_columns = ['GrLivArea', 'FullBath','HalfBath', 'BedroomAbvGr']
desired_columns = ['SalePrice']


X_train = train_dataset[selected_columns]
y_train = train_dataset[desired_columns]
X_test = test_dataset[selected_columns]


model = LinearRegression()
model.fit(X_train,y_train)


X_test = test_dataset[['GrLivArea', 'FullBath','HalfBath', 'BedroomAbvGr']]
test_predictions = model.predict(X_test)


test_dataset['SalePrice'] = predicted_price
test_dataset[['GrLivArea', 'FullBath','HalfBath', 'BedroomAbvGr','SalePrice']].to_csv("predictions.csv",index=False)

